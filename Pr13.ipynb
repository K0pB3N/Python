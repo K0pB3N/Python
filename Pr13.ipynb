{
  "nbformat": 4,
  "nbformat_minor": 0,
  "metadata": {
    "colab": {
      "provenance": [],
      "authorship_tag": "ABX9TyNPfixumYNuP2AM4e0AEzhe",
      "include_colab_link": true
    },
    "kernelspec": {
      "name": "python3",
      "display_name": "Python 3"
    },
    "language_info": {
      "name": "python"
    }
  },
  "cells": [
    {
      "cell_type": "markdown",
      "metadata": {
        "id": "view-in-github",
        "colab_type": "text"
      },
      "source": [
        "<a href=\"https://colab.research.google.com/github/K0pB3N/Python/blob/master/Pr13.ipynb\" target=\"_parent\"><img src=\"https://colab.research.google.com/assets/colab-badge.svg\" alt=\"Open In Colab\"/></a>"
      ]
    },
    {
      "cell_type": "code",
      "execution_count": null,
      "metadata": {
        "id": "_x88bW-7JFX2"
      },
      "outputs": [],
      "source": [
        "import deap\n",
        "from deap import tools\n",
        "from deap import algorithms\n",
        "\n",
        "def eaSimpleWithElitism(population, toolbox, cxpb, mutpb, ngen, stats=None,\n",
        "             halloffame=None, verbose=__debug__):\n",
        "    \"\"\"This algorithm is similar to DEAP eaSimple() algorithm, with the modification that\n",
        "    halloffame is used to implement an elitism mechanism. The individuals contained in the\n",
        "    halloffame are directly injected into the next generation and are not subject to the\n",
        "    genetic operators of selection, crossover and mutation.\n",
        "    \"\"\"\n",
        "    logbook = tools.Logbook()\n",
        "    logbook.header = ['gen', 'nevals'] + (stats.fields if stats else [])\n",
        "\n",
        "    # Evaluate the individuals with an invalid fitness\n",
        "    invalid_ind = [ind for ind in population if not ind.fitness.valid]\n",
        "    fitnesses = toolbox.map(toolbox.evaluate, invalid_ind)\n",
        "    for ind, fit in zip(invalid_ind, fitnesses):\n",
        "        ind.fitness.values = fit\n",
        "\n",
        "    if halloffame is None:\n",
        "        raise ValueError(\"halloffame parameter must not be empty!\")\n",
        "\n",
        "    halloffame.update(population)\n",
        "    hof_size = len(halloffame.items) if halloffame.items else 0\n",
        "\n",
        "    record = stats.compile(population) if stats else {}\n",
        "    logbook.record(gen=0, nevals=len(invalid_ind), **record)\n",
        "    if verbose:\n",
        "        print(logbook.stream)\n",
        "\n",
        "    # Begin the generational process\n",
        "    for gen in range(1, ngen + 1):\n",
        "\n",
        "        # Select the next generation individuals\n",
        "        offspring = toolbox.select(population, len(population) - hof_size)\n",
        "\n",
        "        # Vary the pool of individuals\n",
        "        offspring = algorithms.varAnd(offspring, toolbox, cxpb, mutpb)\n",
        "\n",
        "        # Evaluate the individuals with an invalid fitness\n",
        "        invalid_ind = [ind for ind in offspring if not ind.fitness.valid]\n",
        "        fitnesses = toolbox.map(toolbox.evaluate, invalid_ind)\n",
        "        for ind, fit in zip(invalid_ind, fitnesses):\n",
        "            ind.fitness.values = fit\n",
        "\n",
        "        # add the best back to population:\n",
        "        offspring.extend(halloffame.items)\n",
        "\n",
        "        # Update the hall of fame with the generated individuals\n",
        "        halloffame.update(offspring)\n",
        "\n",
        "        # Replace the current population by the offspring\n",
        "        population[:] = offspring\n",
        "\n",
        "        # Append the current generation statistics to the logbook\n",
        "        record = stats.compile(population) if stats else {}\n",
        "        logbook.record(gen=gen, nevals=len(invalid_ind), **record)\n",
        "        if verbose:\n",
        "            print(logbook.stream)\n",
        "\n",
        "    return population, logbook"
      ]
    },
    {
      "cell_type": "code",
      "source": [
        "import random\n",
        "from pandas import read_csv\n",
        "from sklearn import model_selection\n",
        "from sklearn.tree import DecisionTreeClassifier\n",
        "class Zoo:\n",
        "    \n",
        "    NUM_FOLDS = 5\n",
        "    \n",
        "    def __init__(self, randomSeed):\n",
        "        \n",
        "        self.randomSeed = randomSeed\n",
        "        \n",
        "        self.data = read_csv('breast-cancer-wisconsin1.data', header = None, usecols=range(1, 11))\n",
        "        \n",
        "        self.X = self.data.iloc[:, 0:9]\n",
        "        self.y = self.data.iloc[:, 9]\n",
        "        \n",
        "        self.kfold = model_selection.KFold(n_splits = self.NUM_FOLDS, random_state = self.randomSeed, shuffle=True)\n",
        "        \n",
        "        self.classifier = DecisionTreeClassifier(random_state = self.randomSeed)\n",
        "        \n",
        "    def __len__(self):\n",
        "        return self.X.shape[1]\n",
        "    \n",
        "    def getMeanAccuracy(self, zeroOneList):\n",
        "        \n",
        "        zeroIndices = [i for i, n in enumerate(zeroOneList) if n == 0]\n",
        "        currentX = self.X.drop(self.X.columns[zeroIndices], axis = 1)\n",
        "        \n",
        "        cv_results = model_selection.cross_val_score(self.classifier, currentX, self.y, cv = self.kfold, scoring = 'accuracy')\n",
        "        \n",
        "        return cv_results.mean()\n",
        "    \n",
        "def main():\n",
        "    zoo = Zoo(randomSeed=42)\n",
        "    \n",
        "    allOnes = [1] * len(zoo)\n",
        "    print(\"-- Выделены все признаки: \", allOnes, \", верность = \", zoo.getMeanAccuracy(allOnes))\n",
        "    \n",
        "if __name__ == \"__main__\":\n",
        "    main()"
      ],
      "metadata": {
        "colab": {
          "base_uri": "https://localhost:8080/"
        },
        "id": "MqtJ6XXzJy9m",
        "outputId": "aa90f3a0-d7a7-4a2d-c14f-195f5361e87c"
      },
      "execution_count": null,
      "outputs": [
        {
          "output_type": "stream",
          "name": "stdout",
          "text": [
            "-- Выделены все признаки:  [1, 1, 1, 1, 1, 1, 1, 1, 1] , верность =  0.9398972250770811\n"
          ]
        }
      ]
    },
    {
      "cell_type": "code",
      "source": [
        "from deap import base\n",
        "from deap import creator\n",
        "from deap import tools\n",
        "import random\n",
        "import numpy\n",
        "import matplotlib.pyplot as plt\n",
        "import seaborn as sns\n",
        "\n",
        "POPULATION_SIZE = 50\n",
        "P_CROSSOVER = 0.9 # provability for crossover\n",
        "P_MUTATION = 0.1 # provability for mutating an individual\n",
        "MAX_GENERATIONS = 20\n",
        "HALL_OF_FAME_SIZE = 5\n",
        "FEATURE_PENALTY_FACTOR = 0.001\n",
        "# set the random seed:\n",
        "RANDOM_SEED = 42\n",
        "random.seed(RANDOM_SEED)\n",
        "\n",
        "# create the Zoo test class:\n",
        "zoo = Zoo(RANDOM_SEED)\n",
        "\n",
        "toolbox = base.Toolbox()\n",
        "\n",
        "# define a single objective, maximizing fitness strategy:\n",
        "creator.create(\"FitnessMax\", base.Fitness, weights=(1.0,))\n",
        "\n",
        "creator.create(\"Individual\", list, fitness = creator.FitnessMax)\n",
        "\n",
        "toolbox.register(\"zeroOrOne\", random.randint, 0, 1)\n",
        "\n",
        "toolbox.register(\"individualCreator\", tools.initRepeat, creator.Individual, toolbox.zeroOrOne, len(zoo))\n",
        "\n",
        "toolbox.register(\"populationCreator\", tools.initRepeat, list, toolbox.individualCreator)\n",
        "\n",
        "# fitness calculation:\n",
        "def zooClassificationAccuracy(individual):\n",
        "    numFeaturesUsed = sum(individual)\n",
        "    if numFeaturesUsed == 0:\n",
        "        return 0.0,\n",
        "    else:\n",
        "        accuracy = zoo.getMeanAccuracy(individual)\n",
        "        return accuracy - FEATURE_PENALTY_FACTOR * numFeaturesUsed, # return a tuple\n",
        "    \n",
        "toolbox.register(\"evaluate\", zooClassificationAccuracy)\n",
        "# genetic operators:mutFlipBit\n",
        "toolbox.register(\"select\", tools.selTournament, tournsize = 2)\n",
        "\n",
        "toolbox.register(\"mate\", tools.cxTwoPoint)\n",
        "\n",
        "toolbox.register(\"mutate\", tools.mutFlipBit, indpb = 1.0 / len(zoo))\n",
        "\n",
        "def main():\n",
        "    \n",
        "    # create initial population (generation 0):\n",
        "    population = toolbox.populationCreator(n = POPULATION_SIZE)\n",
        "    # prepare the statistics object:\n",
        "    stats = tools.Statistics(lambda ind: ind.fitness.values)\n",
        "    stats.register(\"max\", numpy.max)\n",
        "    stats.register(\"avg\", numpy.mean)\n",
        "    # define the hall-of-fame object:\n",
        "    hof = tools.HallOfFame(HALL_OF_FAME_SIZE)\n",
        "    # perform the Genetic Algorithm flow with hof feature added:\n",
        "    population, logbook = eaSimpleWithElitism(population, toolbox, cxpb = P_CROSSOVER, mutpb = P_MUTATION, ngen = MAX_GENERATIONS, stats = stats, halloffame = hof, verbose = True)\n",
        "    \n",
        "    # print best solutin found:\n",
        "    print(\"- Лучшие решения:\")\n",
        "    for i in range(HALL_OF_FAME_SIZE):\n",
        "        print(i, \": \", hof.items[i], \", приспособленность = \", hof.items[i].fitness.values[0], \", верность = \", zoo.getMeanAccuracy(hof.items[i]), \", признаков = \", sum(hof.items[i]))\n",
        "        \n",
        "    # extract statistics:\n",
        "    maxFitnessValues, meanFitnessValues = logbook.select(\"max\", \"avg\")\n",
        "    # plot statistics:\n",
        "    sns.set_style(\"whitegrid\")\n",
        "    plt.plot(maxFitnessValues, color = \"red\")\n",
        "    plt.plot(meanFitnessValues, color = \"green\")\n",
        "    plt.xlabel('Generation')\n",
        "    plt.ylabel('Max / Average Fitness')\n",
        "    plt.title('Max and Average fitness over Generations')\n",
        "    plt.show()\n",
        "    \n",
        "if __name__ == \"__main__\":\n",
        "    main()"
      ],
      "metadata": {
        "colab": {
          "base_uri": "https://localhost:8080/",
          "height": 385
        },
        "id": "BhnnIv_8J_kI",
        "outputId": "bd1c5767-3090-4298-c3fc-fbfa67ad5bd3"
      },
      "execution_count": 1,
      "outputs": [
        {
          "output_type": "error",
          "ename": "ModuleNotFoundError",
          "evalue": "ignored",
          "traceback": [
            "\u001b[0;31m---------------------------------------------------------------------------\u001b[0m",
            "\u001b[0;31mModuleNotFoundError\u001b[0m                       Traceback (most recent call last)",
            "\u001b[0;32m<ipython-input-1-072c2f4fa6cb>\u001b[0m in \u001b[0;36m<module>\u001b[0;34m\u001b[0m\n\u001b[0;32m----> 1\u001b[0;31m \u001b[0;32mfrom\u001b[0m \u001b[0mdeap\u001b[0m \u001b[0;32mimport\u001b[0m \u001b[0mbase\u001b[0m\u001b[0;34m\u001b[0m\u001b[0;34m\u001b[0m\u001b[0m\n\u001b[0m\u001b[1;32m      2\u001b[0m \u001b[0;32mfrom\u001b[0m \u001b[0mdeap\u001b[0m \u001b[0;32mimport\u001b[0m \u001b[0mcreator\u001b[0m\u001b[0;34m\u001b[0m\u001b[0;34m\u001b[0m\u001b[0m\n\u001b[1;32m      3\u001b[0m \u001b[0;32mfrom\u001b[0m \u001b[0mdeap\u001b[0m \u001b[0;32mimport\u001b[0m \u001b[0mtools\u001b[0m\u001b[0;34m\u001b[0m\u001b[0;34m\u001b[0m\u001b[0m\n\u001b[1;32m      4\u001b[0m \u001b[0;32mimport\u001b[0m \u001b[0mrandom\u001b[0m\u001b[0;34m\u001b[0m\u001b[0;34m\u001b[0m\u001b[0m\n\u001b[1;32m      5\u001b[0m \u001b[0;32mimport\u001b[0m \u001b[0mnumpy\u001b[0m\u001b[0;34m\u001b[0m\u001b[0;34m\u001b[0m\u001b[0m\n",
            "\u001b[0;31mModuleNotFoundError\u001b[0m: No module named 'deap'",
            "",
            "\u001b[0;31m---------------------------------------------------------------------------\u001b[0;32m\nNOTE: If your import is failing due to a missing package, you can\nmanually install dependencies using either !pip or !apt.\n\nTo view examples of installing some common dependencies, click the\n\"Open Examples\" button below.\n\u001b[0;31m---------------------------------------------------------------------------\u001b[0m\n"
          ],
          "errorDetails": {
            "actions": [
              {
                "action": "open_url",
                "actionText": "Open Examples",
                "url": "/notebooks/snippets/importing_libraries.ipynb"
              }
            ]
          }
        }
      ]
    }
  ]
}